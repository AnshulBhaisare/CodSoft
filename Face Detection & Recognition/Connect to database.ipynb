{
 "cells": [
  {
   "cell_type": "code",
   "execution_count": 1,
   "id": "3de66861-c235-4311-8aa7-d0dce322d4c4",
   "metadata": {},
   "outputs": [],
   "source": [
    "import mysql.connector"
   ]
  },
  {
   "cell_type": "code",
   "execution_count": 2,
   "id": "1195d63d-f316-4184-8de6-1e7b5ce4d909",
   "metadata": {},
   "outputs": [
    {
     "name": "stdout",
     "output_type": "stream",
     "text": [
      "<mysql.connector.connection_cext.CMySQLConnection object at 0x0000015E1A983620>\n"
     ]
    }
   ],
   "source": [
    "mydb=mysql.connector.connect(\n",
    "host=\"localhost\",\n",
    "user=\"root\",\n",
    "passwd=\"\"\n",
    ")\n",
    "print(mydb)"
   ]
  },
  {
   "cell_type": "code",
   "execution_count": 3,
   "id": "6cf3fe80-7634-4a26-8223-04119e124ac5",
   "metadata": {},
   "outputs": [],
   "source": [
    "mycursor=mydb.cursor()\n",
    "mycursor.execute(\"CREATE DATABASE Authorized_user\")"
   ]
  },
  {
   "cell_type": "code",
   "execution_count": 4,
   "id": "4376a20f-0b41-435e-8ebd-cd82a8c320c3",
   "metadata": {},
   "outputs": [
    {
     "name": "stdout",
     "output_type": "stream",
     "text": [
      "('authorized_user',)\n",
      "('information_schema',)\n",
      "('mysql',)\n",
      "('performance_schema',)\n",
      "('phpmyadmin',)\n",
      "('test',)\n"
     ]
    }
   ],
   "source": [
    "mycursor.execute(\"SHOW DATABASES\")\n",
    "for x in mycursor:\n",
    "    print(x)"
   ]
  },
  {
   "cell_type": "code",
   "execution_count": 6,
   "id": "17032bc3-90b9-414b-9f2a-9dca74c5e099",
   "metadata": {},
   "outputs": [],
   "source": [
    "mydb=mysql.connector.connect(\n",
    "host=\"localhost\",\n",
    "user=\"root\",\n",
    "passwd=\"\",\n",
    "database=\"Authorized_user\"\n",
    ")\n",
    "mycursor=mydb.cursor()\n",
    "mycursor.execute(\"create table my_table(id int primary key, Name varchar(50), Age int, Address varchar(50),Email VARCHAR(50),Contact VARCHAR(15))\")"
   ]
  },
  {
   "cell_type": "code",
   "execution_count": null,
   "id": "741715f3-3823-4847-8596-0574d99cd750",
   "metadata": {},
   "outputs": [],
   "source": [
    "mycursor.execute(\"SHOW TABLES\")\n",
    "for x in mycursor:\n",
    "    print()"
   ]
  },
  {
   "cell_type": "code",
   "execution_count": null,
   "id": "ab54d603-81b9-4717-8e99-eb33634effb3",
   "metadata": {},
   "outputs": [],
   "source": [
    "sql="
   ]
  }
 ],
 "metadata": {
  "kernelspec": {
   "display_name": "Python 3 (ipykernel)",
   "language": "python",
   "name": "python3"
  },
  "language_info": {
   "codemirror_mode": {
    "name": "ipython",
    "version": 3
   },
   "file_extension": ".py",
   "mimetype": "text/x-python",
   "name": "python",
   "nbconvert_exporter": "python",
   "pygments_lexer": "ipython3",
   "version": "3.13.1"
  }
 },
 "nbformat": 4,
 "nbformat_minor": 5
}
